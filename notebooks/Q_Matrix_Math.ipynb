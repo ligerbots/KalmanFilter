{
 "cells": [
  {
   "cell_type": "code",
   "execution_count": 1,
   "metadata": {},
   "outputs": [],
   "source": [
    "import sympy\n",
    "import math\n",
    "from sympy import init_printing, Matrix, MatMul, integrate, symbols, eye\n",
    "\n",
    "init_printing(use_latex='mathjax')\n",
    "\n",
    "v_s, v_p, v_a = symbols('sigma_s^2 sigma_p^2 sigma_a^2')\n",
    "dt, phi = symbols('\\Delta{t} \\Phi_s')"
   ]
  },
  {
   "cell_type": "markdown",
   "metadata": {},
   "source": [
    "## State Vector and Evolution\n",
    "\n",
    "Use $ ( x, y, v_f, v_s, \\theta, \\omega )$\n",
    "\n",
    "## Single linear (position, velocity)\n",
    "\n",
    "See rlabbe on Github"
   ]
  },
  {
   "cell_type": "code",
   "execution_count": 2,
   "metadata": {},
   "outputs": [
    {
     "name": "stdout",
     "output_type": "stream",
     "text": [
      "Q_s =\n"
     ]
    },
    {
     "data": {
      "text/latex": [
       "$$\\left[\\begin{matrix}\\frac{\\Delta{t}^{4} \\sigma^{2}_{s}}{4} & \\frac{\\Delta{t}^{3} \\sigma^{2}_{s}}{2}\\\\\\frac{\\Delta{t}^{3} \\sigma^{2}_{s}}{2} & \\Delta{t}^{2} \\sigma^{2}_{s}\\end{matrix}\\right]$$"
      ],
      "text/plain": [
       "⎡         4               3    ⎤\n",
       "⎢\\Delta{t} ⋅σ²ₛ  \\Delta{t} ⋅σ²ₛ⎥\n",
       "⎢──────────────  ──────────────⎥\n",
       "⎢      4               2       ⎥\n",
       "⎢                              ⎥\n",
       "⎢         3                    ⎥\n",
       "⎢\\Delta{t} ⋅σ²ₛ           2    ⎥\n",
       "⎢──────────────  \\Delta{t} ⋅σ²ₛ⎥\n",
       "⎣      2                       ⎦"
      ]
     },
     "execution_count": 2,
     "metadata": {},
     "output_type": "execute_result"
    }
   ],
   "source": [
    "v = Matrix([[dt**2 / 2], [dt]])\n",
    "Q_s = v @ v_s @ v.T\n",
    "print('Q_s =')\n",
    "Q_s"
   ]
  },
  {
   "cell_type": "markdown",
   "metadata": {},
   "source": [
    "Each pos,velocity pair as a similar 2x2 matrix. Note, use different uncertainties for parallel (\"s\") and perpendicular velocities, since strafing is highly restricted in a normal tank robot.\n",
    "\n",
    "Here is the full 6-dimensional Q matrix."
   ]
  },
  {
   "cell_type": "code",
   "execution_count": 3,
   "metadata": {},
   "outputs": [
    {
     "data": {
      "text/latex": [
       "$$\\left[\\begin{matrix}\\frac{\\Delta{t}^{4} \\sigma^{2}_{s}}{4} & \\frac{\\Delta{t}^{3} \\sigma^{2}_{s}}{2} & 0 & 0 & 0 & 0\\\\\\frac{\\Delta{t}^{3} \\sigma^{2}_{s}}{2} & \\Delta{t}^{2} \\sigma^{2}_{s} & 0 & 0 & 0 & 0\\\\0 & 0 & \\frac{\\Delta{t}^{4} \\sigma^{2}_{p}}{4} & \\frac{\\Delta{t}^{3} \\sigma^{2}_{p}}{2} & 0 & 0\\\\0 & 0 & \\frac{\\Delta{t}^{3} \\sigma^{2}_{p}}{2} & \\Delta{t}^{2} \\sigma^{2}_{p} & 0 & 0\\\\0 & 0 & 0 & 0 & \\frac{\\Delta{t}^{4} \\sigma^{2}_{a}}{4} & \\frac{\\Delta{t}^{3} \\sigma^{2}_{a}}{2}\\\\0 & 0 & 0 & 0 & \\frac{\\Delta{t}^{3} \\sigma^{2}_{a}}{2} & \\Delta{t}^{2} \\sigma^{2}_{a}\\end{matrix}\\right]$$"
      ],
      "text/plain": [
       "⎡         4               3                                                   \n",
       "⎢\\Delta{t} ⋅σ²ₛ  \\Delta{t} ⋅σ²ₛ                                               \n",
       "⎢──────────────  ──────────────        0               0               0      \n",
       "⎢      4               2                                                      \n",
       "⎢                                                                             \n",
       "⎢         3                                                                   \n",
       "⎢\\Delta{t} ⋅σ²ₛ           2                                                   \n",
       "⎢──────────────  \\Delta{t} ⋅σ²ₛ        0               0               0      \n",
       "⎢      2                                                                      \n",
       "⎢                                                                             \n",
       "⎢                                         4               3                   \n",
       "⎢                                \\Delta{t} ⋅σ²ₚ  \\Delta{t} ⋅σ²ₚ               \n",
       "⎢      0               0         ──────────────  ──────────────        0      \n",
       "⎢                                      4               2                      \n",
       "⎢                                                                             \n",
       "⎢                                         3                                   \n",
       "⎢                                \\Delta{t} ⋅σ²ₚ           2                   \n",
       "⎢      0               0         ──────────────  \\Delta{t} ⋅σ²ₚ        0      \n",
       "⎢                                      2                                      \n",
       "⎢                                                                             \n",
       "⎢                                                                         4   \n",
       "⎢                                                                \\Delta{t} ⋅σ²\n",
       "⎢      0               0               0               0         ─────────────\n",
       "⎢                                                                      4      \n",
       "⎢                                                                             \n",
       "⎢                                                                         3   \n",
       "⎢                                                                \\Delta{t} ⋅σ²\n",
       "⎢      0               0               0               0         ─────────────\n",
       "⎣                                                                      2      \n",
       "\n",
       "                 ⎤\n",
       "                 ⎥\n",
       "         0       ⎥\n",
       "                 ⎥\n",
       "                 ⎥\n",
       "                 ⎥\n",
       "                 ⎥\n",
       "         0       ⎥\n",
       "                 ⎥\n",
       "                 ⎥\n",
       "                 ⎥\n",
       "                 ⎥\n",
       "         0       ⎥\n",
       "                 ⎥\n",
       "                 ⎥\n",
       "                 ⎥\n",
       "                 ⎥\n",
       "         0       ⎥\n",
       "                 ⎥\n",
       "                 ⎥\n",
       "            3    ⎥\n",
       "ₐ  \\Delta{t} ⋅σ²ₐ⎥\n",
       "─  ──────────────⎥\n",
       "         2       ⎥\n",
       "                 ⎥\n",
       "                 ⎥\n",
       "ₐ           2    ⎥\n",
       "─  \\Delta{t} ⋅σ²ₐ⎥\n",
       "                 ⎦"
      ]
     },
     "execution_count": 3,
     "metadata": {},
     "output_type": "execute_result"
    }
   ],
   "source": [
    "Q_spa = eye(6)\n",
    "Q_spa[0:2, 0:2] = v @ v_s @ v.T\n",
    "Q_spa[2:4, 2:4] = v @ v_p @ v.T\n",
    "Q_spa[4:6, 4:6] = v @ v_a @ v.T\n",
    "\n",
    "Q_spa"
   ]
  },
  {
   "cell_type": "markdown",
   "metadata": {},
   "source": [
    "## Swap the columns\n",
    "\n",
    "I want to use the column order of (x, y, v_s, v_p, angle, v_angle), so swap the columns. (Does not really change the math!)"
   ]
  },
  {
   "cell_type": "code",
   "execution_count": 4,
   "metadata": {},
   "outputs": [
    {
     "data": {
      "text/latex": [
       "$$\\left[\\begin{matrix}1 & 0 & 0 & 0 & 0 & 0\\\\0 & 0 & 1 & 0 & 0 & 0\\\\0 & 1 & 0 & 0 & 0 & 0\\\\0 & 0 & 0 & 1 & 0 & 0\\\\0 & 0 & 0 & 0 & 1 & 0\\\\0 & 0 & 0 & 0 & 0 & 1\\end{matrix}\\right]$$"
      ],
      "text/plain": [
       "⎡1  0  0  0  0  0⎤\n",
       "⎢                ⎥\n",
       "⎢0  0  1  0  0  0⎥\n",
       "⎢                ⎥\n",
       "⎢0  1  0  0  0  0⎥\n",
       "⎢                ⎥\n",
       "⎢0  0  0  1  0  0⎥\n",
       "⎢                ⎥\n",
       "⎢0  0  0  0  1  0⎥\n",
       "⎢                ⎥\n",
       "⎣0  0  0  0  0  1⎦"
      ]
     },
     "execution_count": 4,
     "metadata": {},
     "output_type": "execute_result"
    }
   ],
   "source": [
    "T = eye(6)\n",
    "T[1, 1] = 0\n",
    "T[1, 2] = 1\n",
    "T[2, 2] = 0\n",
    "T[2, 1] = 1\n",
    "T"
   ]
  },
  {
   "cell_type": "code",
   "execution_count": 5,
   "metadata": {},
   "outputs": [
    {
     "data": {
      "text/latex": [
       "$$\\left[\\begin{matrix}\\frac{\\Delta{t}^{4} \\sigma^{2}_{s}}{4} & 0 & \\frac{\\Delta{t}^{3} \\sigma^{2}_{s}}{2} & 0 & 0 & 0\\\\0 & \\frac{\\Delta{t}^{4} \\sigma^{2}_{p}}{4} & 0 & \\frac{\\Delta{t}^{3} \\sigma^{2}_{p}}{2} & 0 & 0\\\\\\frac{\\Delta{t}^{3} \\sigma^{2}_{s}}{2} & 0 & \\Delta{t}^{2} \\sigma^{2}_{s} & 0 & 0 & 0\\\\0 & \\frac{\\Delta{t}^{3} \\sigma^{2}_{p}}{2} & 0 & \\Delta{t}^{2} \\sigma^{2}_{p} & 0 & 0\\\\0 & 0 & 0 & 0 & \\frac{\\Delta{t}^{4} \\sigma^{2}_{a}}{4} & \\frac{\\Delta{t}^{3} \\sigma^{2}_{a}}{2}\\\\0 & 0 & 0 & 0 & \\frac{\\Delta{t}^{3} \\sigma^{2}_{a}}{2} & \\Delta{t}^{2} \\sigma^{2}_{a}\\end{matrix}\\right]$$"
      ],
      "text/plain": [
       "⎡         4                               3                                   \n",
       "⎢\\Delta{t} ⋅σ²ₛ                  \\Delta{t} ⋅σ²ₛ                               \n",
       "⎢──────────────        0         ──────────────        0               0      \n",
       "⎢      4                               2                                      \n",
       "⎢                                                                             \n",
       "⎢                         4                               3                   \n",
       "⎢                \\Delta{t} ⋅σ²ₚ                  \\Delta{t} ⋅σ²ₚ               \n",
       "⎢      0         ──────────────        0         ──────────────        0      \n",
       "⎢                      4                               2                      \n",
       "⎢                                                                             \n",
       "⎢         3                                                                   \n",
       "⎢\\Delta{t} ⋅σ²ₛ                           2                                   \n",
       "⎢──────────────        0         \\Delta{t} ⋅σ²ₛ        0               0      \n",
       "⎢      2                                                                      \n",
       "⎢                                                                             \n",
       "⎢                         3                                                   \n",
       "⎢                \\Delta{t} ⋅σ²ₚ                           2                   \n",
       "⎢      0         ──────────────        0         \\Delta{t} ⋅σ²ₚ        0      \n",
       "⎢                      2                                                      \n",
       "⎢                                                                             \n",
       "⎢                                                                         4   \n",
       "⎢                                                                \\Delta{t} ⋅σ²\n",
       "⎢      0               0               0               0         ─────────────\n",
       "⎢                                                                      4      \n",
       "⎢                                                                             \n",
       "⎢                                                                         3   \n",
       "⎢                                                                \\Delta{t} ⋅σ²\n",
       "⎢      0               0               0               0         ─────────────\n",
       "⎣                                                                      2      \n",
       "\n",
       "                 ⎤\n",
       "                 ⎥\n",
       "         0       ⎥\n",
       "                 ⎥\n",
       "                 ⎥\n",
       "                 ⎥\n",
       "                 ⎥\n",
       "         0       ⎥\n",
       "                 ⎥\n",
       "                 ⎥\n",
       "                 ⎥\n",
       "                 ⎥\n",
       "         0       ⎥\n",
       "                 ⎥\n",
       "                 ⎥\n",
       "                 ⎥\n",
       "                 ⎥\n",
       "         0       ⎥\n",
       "                 ⎥\n",
       "                 ⎥\n",
       "            3    ⎥\n",
       "ₐ  \\Delta{t} ⋅σ²ₐ⎥\n",
       "─  ──────────────⎥\n",
       "         2       ⎥\n",
       "                 ⎥\n",
       "                 ⎥\n",
       "ₐ           2    ⎥\n",
       "─  \\Delta{t} ⋅σ²ₐ⎥\n",
       "                 ⎦"
      ]
     },
     "execution_count": 5,
     "metadata": {},
     "output_type": "execute_result"
    }
   ],
   "source": [
    "Q_spa_2 = T @ Q_spa @ T.T\n",
    "Q_spa_2"
   ]
  },
  {
   "cell_type": "markdown",
   "metadata": {},
   "source": [
    "# Rotate to (x,y)\n",
    "\n",
    "Now, rotate the \"basis\" so that the first two position columns are (x, y), instead of (forward, perpendicular). Leave the other columns alone.\n",
    "\n",
    "$\\theta$ is the yaw angle; that is, the angle between the robot forward direction and the x-axis of the field"
   ]
  },
  {
   "cell_type": "code",
   "execution_count": 6,
   "metadata": {},
   "outputs": [
    {
     "data": {
      "text/latex": [
       "$$\\left[\\begin{matrix}\\cos{\\left (\\theta \\right )} & - \\sin{\\left (\\theta \\right )} & 0 & 0 & 0 & 0\\\\\\sin{\\left (\\theta \\right )} & \\cos{\\left (\\theta \\right )} & 0 & 0 & 0 & 0\\\\0 & 0 & 1 & 0 & 0 & 0\\\\0 & 0 & 0 & 1 & 0 & 0\\\\0 & 0 & 0 & 0 & 1 & 0\\\\0 & 0 & 0 & 0 & 0 & 1\\end{matrix}\\right]$$"
      ],
      "text/plain": [
       "⎡cos(θ)  -sin(θ)  0  0  0  0⎤\n",
       "⎢                           ⎥\n",
       "⎢sin(θ)  cos(θ)   0  0  0  0⎥\n",
       "⎢                           ⎥\n",
       "⎢  0        0     1  0  0  0⎥\n",
       "⎢                           ⎥\n",
       "⎢  0        0     0  1  0  0⎥\n",
       "⎢                           ⎥\n",
       "⎢  0        0     0  0  1  0⎥\n",
       "⎢                           ⎥\n",
       "⎣  0        0     0  0  0  1⎦"
      ]
     },
     "execution_count": 6,
     "metadata": {},
     "output_type": "execute_result"
    }
   ],
   "source": [
    "a = symbols('theta')\n",
    "T = eye(6)\n",
    "T[0, 0] = T[1, 1] = sympy.cos(a)\n",
    "T[1, 0] = sympy.sin(a)\n",
    "T[0, 1] = -T[1, 0]\n",
    "T"
   ]
  },
  {
   "cell_type": "code",
   "execution_count": 7,
   "metadata": {},
   "outputs": [
    {
     "data": {
      "text/latex": [
       "$$\\left[\\begin{matrix}\\frac{\\Delta{t}^{4} \\sigma^{2}_{p}}{4} \\sin^{2}{\\left (\\theta \\right )} + \\frac{\\Delta{t}^{4} \\sigma^{2}_{s}}{4} \\cos^{2}{\\left (\\theta \\right )} & - \\frac{\\Delta{t}^{4} \\sigma^{2}_{p}}{4} \\sin{\\left (\\theta \\right )} \\cos{\\left (\\theta \\right )} + \\frac{\\Delta{t}^{4} \\sigma^{2}_{s}}{4} \\sin{\\left (\\theta \\right )} \\cos{\\left (\\theta \\right )} & \\frac{\\Delta{t}^{3} \\sigma^{2}_{s}}{2} \\cos{\\left (\\theta \\right )} & - \\frac{\\Delta{t}^{3} \\sigma^{2}_{p}}{2} \\sin{\\left (\\theta \\right )} & 0 & 0\\\\- \\frac{\\Delta{t}^{4} \\sigma^{2}_{p}}{4} \\sin{\\left (\\theta \\right )} \\cos{\\left (\\theta \\right )} + \\frac{\\Delta{t}^{4} \\sigma^{2}_{s}}{4} \\sin{\\left (\\theta \\right )} \\cos{\\left (\\theta \\right )} & \\frac{\\Delta{t}^{4} \\sigma^{2}_{p}}{4} \\cos^{2}{\\left (\\theta \\right )} + \\frac{\\Delta{t}^{4} \\sigma^{2}_{s}}{4} \\sin^{2}{\\left (\\theta \\right )} & \\frac{\\Delta{t}^{3} \\sigma^{2}_{s}}{2} \\sin{\\left (\\theta \\right )} & \\frac{\\Delta{t}^{3} \\sigma^{2}_{p}}{2} \\cos{\\left (\\theta \\right )} & 0 & 0\\\\\\frac{\\Delta{t}^{3} \\sigma^{2}_{s}}{2} \\cos{\\left (\\theta \\right )} & \\frac{\\Delta{t}^{3} \\sigma^{2}_{s}}{2} \\sin{\\left (\\theta \\right )} & \\Delta{t}^{2} \\sigma^{2}_{s} & 0 & 0 & 0\\\\- \\frac{\\Delta{t}^{3} \\sigma^{2}_{p}}{2} \\sin{\\left (\\theta \\right )} & \\frac{\\Delta{t}^{3} \\sigma^{2}_{p}}{2} \\cos{\\left (\\theta \\right )} & 0 & \\Delta{t}^{2} \\sigma^{2}_{p} & 0 & 0\\\\0 & 0 & 0 & 0 & \\frac{\\Delta{t}^{4} \\sigma^{2}_{a}}{4} & \\frac{\\Delta{t}^{3} \\sigma^{2}_{a}}{2}\\\\0 & 0 & 0 & 0 & \\frac{\\Delta{t}^{3} \\sigma^{2}_{a}}{2} & \\Delta{t}^{2} \\sigma^{2}_{a}\\end{matrix}\\right]$$"
      ],
      "text/plain": [
       "⎡                4        2               4        2                       4  \n",
       "⎢       \\Delta{t} ⋅σ²ₚ⋅sin (θ)   \\Delta{t} ⋅σ²ₛ⋅cos (θ)           \\Delta{t} ⋅σ\n",
       "⎢       ────────────────────── + ──────────────────────         - ────────────\n",
       "⎢                 4                        4                                  \n",
       "⎢                                                                             \n",
       "⎢           4                              4                                  \n",
       "⎢  \\Delta{t} ⋅σ²ₚ⋅sin(θ)⋅cos(θ)   \\Delta{t} ⋅σ²ₛ⋅sin(θ)⋅cos(θ)         \\Delta{\n",
       "⎢- ──────────────────────────── + ────────────────────────────         ───────\n",
       "⎢               4                              4                              \n",
       "⎢                                                                             \n",
       "⎢                             3                                               \n",
       "⎢                    \\Delta{t} ⋅σ²ₛ⋅cos(θ)                                    \n",
       "⎢                    ─────────────────────                                    \n",
       "⎢                              2                                              \n",
       "⎢                                                                             \n",
       "⎢                             3                                               \n",
       "⎢                   -\\Delta{t} ⋅σ²ₚ⋅sin(θ)                                    \n",
       "⎢                   ───────────────────────                                   \n",
       "⎢                              2                                              \n",
       "⎢                                                                             \n",
       "⎢                                                                             \n",
       "⎢                                                                             \n",
       "⎢                              0                                              \n",
       "⎢                                                                             \n",
       "⎢                                                                             \n",
       "⎢                                                                             \n",
       "⎢                                                                             \n",
       "⎢                              0                                              \n",
       "⎣                                                                             \n",
       "\n",
       "                            4                             3                   \n",
       "²ₚ⋅sin(θ)⋅cos(θ)   \\Delta{t} ⋅σ²ₛ⋅sin(θ)⋅cos(θ)  \\Delta{t} ⋅σ²ₛ⋅cos(θ)  -\\Delt\n",
       "──────────────── + ────────────────────────────  ─────────────────────  ──────\n",
       " 4                              4                          2                  \n",
       "                                                                              \n",
       "  4        2               4        2                     3                   \n",
       "t} ⋅σ²ₚ⋅cos (θ)   \\Delta{t} ⋅σ²ₛ⋅sin (θ)         \\Delta{t} ⋅σ²ₛ⋅sin(θ)   \\Delt\n",
       "─────────────── + ──────────────────────         ─────────────────────   ─────\n",
       "   4                        4                              2                  \n",
       "                                                                              \n",
       "               3                                                              \n",
       "      \\Delta{t} ⋅σ²ₛ⋅sin(θ)                                  2                \n",
       "      ─────────────────────                         \\Delta{t} ⋅σ²ₛ            \n",
       "                2                                                             \n",
       "                                                                              \n",
       "               3                                                              \n",
       "      \\Delta{t} ⋅σ²ₚ⋅cos(θ)                                                   \n",
       "      ─────────────────────                                0                \\D\n",
       "                2                                                             \n",
       "                                                                              \n",
       "                                                                              \n",
       "                                                                              \n",
       "                0                                          0                  \n",
       "                                                                              \n",
       "                                                                              \n",
       "                                                                              \n",
       "                                                                              \n",
       "                0                                          0                  \n",
       "                                                                              \n",
       "\n",
       "    3                                            ⎤\n",
       "a{t} ⋅σ²ₚ⋅sin(θ)                                 ⎥\n",
       "─────────────────        0               0       ⎥\n",
       "     2                                           ⎥\n",
       "                                                 ⎥\n",
       "    3                                            ⎥\n",
       "a{t} ⋅σ²ₚ⋅cos(θ)                                 ⎥\n",
       "────────────────         0               0       ⎥\n",
       "     2                                           ⎥\n",
       "                                                 ⎥\n",
       "                                                 ⎥\n",
       "                                                 ⎥\n",
       "     0                   0               0       ⎥\n",
       "                                                 ⎥\n",
       "                                                 ⎥\n",
       "                                                 ⎥\n",
       "       2                                         ⎥\n",
       "elta{t} ⋅σ²ₚ             0               0       ⎥\n",
       "                                                 ⎥\n",
       "                                                 ⎥\n",
       "                            4               3    ⎥\n",
       "                   \\Delta{t} ⋅σ²ₐ  \\Delta{t} ⋅σ²ₐ⎥\n",
       "     0             ──────────────  ──────────────⎥\n",
       "                         4               2       ⎥\n",
       "                                                 ⎥\n",
       "                            3                    ⎥\n",
       "                   \\Delta{t} ⋅σ²ₐ           2    ⎥\n",
       "     0             ──────────────  \\Delta{t} ⋅σ²ₐ⎥\n",
       "                         2                       ⎦"
      ]
     },
     "execution_count": 7,
     "metadata": {},
     "output_type": "execute_result"
    }
   ],
   "source": [
    "Q_xya = T @ Q_spa_2 @ T.T\n",
    "Q_xya"
   ]
  },
  {
   "cell_type": "code",
   "execution_count": null,
   "metadata": {},
   "outputs": [],
   "source": []
  }
 ],
 "metadata": {
  "kernelspec": {
   "display_name": "Python 3",
   "language": "python",
   "name": "python3"
  },
  "language_info": {
   "codemirror_mode": {
    "name": "ipython",
    "version": 3
   },
   "file_extension": ".py",
   "mimetype": "text/x-python",
   "name": "python",
   "nbconvert_exporter": "python",
   "pygments_lexer": "ipython3",
   "version": "3.6.5"
  }
 },
 "nbformat": 4,
 "nbformat_minor": 2
}
