{
 "cells": [
  {
   "cell_type": "markdown",
   "metadata": {},
   "source": [
    "## Simple robot simulation using the Python PyFRC simulation library\n",
    "It is not the most accurate, but it seems to give reasonable results"
   ]
  },
  {
   "cell_type": "code",
   "execution_count": 1,
   "metadata": {},
   "outputs": [],
   "source": [
    "%matplotlib inline\n",
    "import matplotlib.pyplot as plt\n",
    "import math\n",
    "import csv\n",
    "import numpy as np"
   ]
  },
  {
   "cell_type": "code",
   "execution_count": 2,
   "metadata": {},
   "outputs": [
    {
     "name": "stdout",
     "output_type": "stream",
     "text": [
      "Hi from paul\n"
     ]
    }
   ],
   "source": [
    "# if needed, the path to the PyFRC library\n",
    "import sys\n",
    "sys.path.insert(1, '/home/ligerbots/software/kalman/pyfrc/lib')\n",
    "\n",
    "from pyfrc.physics import motor_cfgs, tankmodel\n",
    "from pyfrc.physics.units import units"
   ]
  },
  {
   "cell_type": "code",
   "execution_count": 3,
   "metadata": {},
   "outputs": [],
   "source": [
    "tstep = 0.05\n",
    "start_pos = (0, 0, 0)    # x, y, angle\n",
    "\n",
    "# Define the path\n",
    "# time, left motor, right motor\n",
    "s_curve = ((0, 1.0, 1.0),\n",
    "        (2.0, 1.0, 0.5),\n",
    "        (2.5, 1.0, 1.0),\n",
    "        (3.0, 0.5, 1.0),\n",
    "        (3.55, 1.0, 1.0),\n",
    "        (5.0, 0, 0))"
   ]
  },
  {
   "cell_type": "code",
   "execution_count": 4,
   "metadata": {},
   "outputs": [],
   "source": [
    "bumper_width = 4*units.inch\n",
    "robot = tankmodel.TankModel.theory(\n",
    "            motor_cfgs.MOTOR_CFG_CIM,           # motor configuration\n",
    "            125*units.lbs,                      # robot mass\n",
    "            10.71,                              # drivetrain gear ratio\n",
    "            2,                                  # motors per side\n",
    "            22*units.inch,                      # robot wheelbase\n",
    "            23*units.inch + bumper_width*2,     # robot width\n",
    "            32*units.inch + bumper_width*2,     # robot length\n",
    "            4*units.inch                        # wheel diameter\n",
    "        )\n",
    "#robot.inertia = 125*units.lbs * (22*units.inch)**2"
   ]
  },
  {
   "cell_type": "code",
   "execution_count": 5,
   "metadata": {},
   "outputs": [],
   "source": [
    "outfile_name = 'sim_fast_s_turn.csv'\n",
    "path = s_curve"
   ]
  },
  {
   "cell_type": "code",
   "execution_count": 6,
   "metadata": {},
   "outputs": [],
   "source": [
    "time = 0\n",
    "path_step = 0\n",
    "curr_pos = 8*[0.0, ]\n",
    "robot_path = [np.copy(curr_pos), ]\n",
    "while True:\n",
    "    curr_pos[0] += tstep\n",
    "    if curr_pos[0] >= path[path_step+1][0]:\n",
    "        path_step += 1\n",
    "    if path_step == len(path) - 1:\n",
    "        break\n",
    "    delta = robot.get_distance(-path[path_step][1], path[path_step][2], tstep)\n",
    "    curr_pos[3] += delta[2]\n",
    "    curr_pos[4] = robot.l_position\n",
    "    curr_pos[5] = robot.r_position\n",
    "    curr_pos[6] = path[path_step][1]\n",
    "    curr_pos[7] = path[path_step][2]\n",
    "    \n",
    "    c = math.cos(curr_pos[3])\n",
    "    s = math.sin(curr_pos[3])\n",
    "            \n",
    "    curr_pos[1] += (delta[0]*c - delta[1]*s)\n",
    "    curr_pos[2] += (delta[0]*s + delta[1]*c)\n",
    "    robot_path.append(np.copy(curr_pos))"
   ]
  },
  {
   "cell_type": "code",
   "execution_count": 7,
   "metadata": {
    "scrolled": true
   },
   "outputs": [
    {
     "data": {
      "image/png": "[encoded data removed]",
      "text/plain": [
       "<Figure size 648x360 with 1 Axes>"
      ]
     },
     "metadata": {},
     "output_type": "display_data"
    }
   ],
   "source": [
    "x = [r[1] for r in robot_path]\n",
    "y = [r[2] for r in robot_path]\n",
    "plt.rcParams['figure.figsize'] = (9,5)\n",
    "plt.plot(x,y)\n",
    "\n",
    "vx = [math.cos(r[3]) for r in robot_path]\n",
    "vy = [math.sin(r[3]) for r in robot_path]\n",
    "# only put an arrow every 5th point\n",
    "plt.quiver(x[::5], y[::5], vx[::5], vy[::5], angles='xy');"
   ]
  },
  {
   "cell_type": "code",
   "execution_count": 8,
   "metadata": {},
   "outputs": [],
   "source": [
    "fout = open(outfile_name, 'w')\n",
    "outcsv = csv.writer(fout)\n",
    "outcsv.writerow(['Time', 'X', 'Y', 'Angle', 'EncoderLeft', 'EncoderRight', 'Motor_Left', 'Motor_Right'])\n",
    "for r in robot_path:\n",
    "    outcsv.writerow(r)\n",
    "fout.close()"
   ]
  }
 ],
 "metadata": {
  "kernelspec": {
   "display_name": "Python 3",
   "language": "python",
   "name": "python3"
  },
  "language_info": {
   "codemirror_mode": {
    "name": "ipython",
    "version": 3
   },
   "file_extension": ".py",
   "mimetype": "text/x-python",
   "name": "python",
   "nbconvert_exporter": "python",
   "pygments_lexer": "ipython3",
   "version": "3.6.5"
  }
 },
 "nbformat": 4,
 "nbformat_minor": 2
}
